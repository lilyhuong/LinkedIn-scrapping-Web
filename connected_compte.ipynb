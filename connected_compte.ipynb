{
 "cells": [
  {
   "cell_type": "code",
   "execution_count": 9,
   "metadata": {},
   "outputs": [],
   "source": [
    "import os, random, sys, time\n",
    "from selenium import webdriver\n",
    "from bs4 import BeautifulSoup\n",
    "from urllib.parse import urlparse\n",
    "from webdriver_manager.chrome import ChromeDriverManager"
   ]
  },
  {
   "cell_type": "code",
   "execution_count": 10,
   "metadata": {},
   "outputs": [
    {
     "name": "stderr",
     "output_type": "stream",
     "text": [
      "\n",
      "\n",
      "====== WebDriver manager ======\n",
      "Current google-chrome version is 90.0.4430\n",
      "Get LATEST driver version for 90.0.4430\n",
      "Get LATEST driver version for 90.0.4430\n",
      "Trying to download new driver from https://chromedriver.storage.googleapis.com/90.0.4430.24/chromedriver_win32.zip\n",
      "Driver has been saved in cache [C:\\Users\\Lily Huong\\.wdm\\drivers\\chromedriver\\win32\\90.0.4430.24]\n"
     ]
    }
   ],
   "source": [
    "browser = webdriver.Chrome(ChromeDriverManager().install())\n",
    "browser.get('https://www.linkedin.com/uas/login')\n",
    "file = open('compte.txt', \"r\")\n",
    "lines = file.readlines()\n",
    "username = lines[0]\n",
    "password = lines[1]\n",
    "elementID = browser.find_element_by_id('username')\n",
    "elementID.send_keys(username)\n",
    "elementID = browser.find_element_by_id('password')\n",
    "elementID.send_keys(password)\n",
    "elementID.submit()"
   ]
  },
  {
   "cell_type": "code",
   "execution_count": 11,
   "metadata": {},
   "outputs": [],
   "source": [
    "visitingProfileID = '/in/alix-mas-ab351ba3/'\n",
    "fullLink = 'https://www.linkedin.com' + visitingProfileID\n",
    "browser.get(fullLink)"
   ]
  },
  {
   "cell_type": "code",
   "execution_count": 12,
   "metadata": {},
   "outputs": [],
   "source": [
    "visitedProfiles = []\n",
    "profilesQueued = []"
   ]
  },
  {
   "cell_type": "code",
   "execution_count": 16,
   "metadata": {},
   "outputs": [],
   "source": [
    "def getNewProfileIDs(soup, profilesQueued):\n",
    "    profilesID = []\n",
    "    pav = soup.find('section', {'class': 'pt5 pb3 ph4'})\n",
    "    all_links = pav.findAll('a', {'class': 'ember-view pv-pymk-section__member align-items-center'})\n",
    "    for link in all_links:\n",
    "        userID = link.get('href')\n",
    "        if((userID not in profilesQueued) and (userID not in visitedProfiles)):\n",
    "            profilesID.append(userID)\n",
    "    return profilesID"
   ]
  },
  {
   "cell_type": "code",
   "execution_count": 18,
   "metadata": {},
   "outputs": [],
   "source": [
    "profilesQueued = getNewProfileIDs(BeautifulSoup(browser.page_source), profilesQueued)"
   ]
  },
  {
   "cell_type": "code",
   "execution_count": 19,
   "metadata": {},
   "outputs": [
    {
     "data": {
      "text/plain": [
       "['/in/chlo%C3%A9-beaudet-8a1a6166/',\n",
       " '/in/mathieu-silvy/',\n",
       " '/in/maxime-bertonnier-744351aa/',\n",
       " '/in/clementinecoycault/',\n",
       " '/in/victoire-sagny-6b027920a/']"
      ]
     },
     "execution_count": 19,
     "metadata": {},
     "output_type": "execute_result"
    }
   ],
   "source": [
    "profilesQueued"
   ]
  },
  {
   "cell_type": "code",
   "execution_count": null,
   "metadata": {},
   "outputs": [
    {
     "name": "stdout",
     "output_type": "stream",
     "text": [
      "error\n",
      "error\n",
      "error\n",
      "error\n",
      "error\n",
      "error\n"
     ]
    }
   ],
   "source": [
    "while profilesQueued:\n",
    "    try:\n",
    "        visitingProfileID = profilesQueued.pop()\n",
    "        visitedProfiles.append(visitingProfileID)\n",
    "        fullLink = 'https://www.linkedin.com' + visitingProfileID\n",
    "        browser.get(fullLink)\n",
    "        \n",
    "        browser.find_element_by_class_name('pvs-profile-actions__action').click()\n",
    "        browser.find_element_by_class_name('mr1').click()\n",
    "        customMessage = \"Bonjour, c'est NGUYEN Thi Huong, c'est un message automatique\"\n",
    "        elementID = browser.find_element_by_id('custom-message')\n",
    "        elementID.send_keys(customMessage)\n",
    "        browser.find_element_by_class_name('ml1').click()\n",
    "        \n",
    "        with open('visitedUsers.txt', 'a') as visitedUsersFile:\n",
    "            visitedUsersFile.write(str(visitingProfileID)+'\\n')\n",
    "        visitedUsersFile.close()\n",
    "\n",
    "       \n",
    "        soup = BeautifulSoup(browser.page_source)\n",
    "        try: \n",
    "            profilesQueued.extend(getNewProfileIDs(soup, profilesQueued))\n",
    "        except:\n",
    "            print('Continue')\n",
    "\n",
    "        # Pause\n",
    "        time.sleep(random.uniform(3, 7)) \n",
    "\n",
    "        if(len(visitedProfiles)%50==0):\n",
    "            print('Visited Profiles: ', len(visitedProfiles))\n",
    "\n",
    "        if(len(profilesQueued)>100000):\n",
    "            with open('profilesQueued.txt', 'a') as visitedUsersFile:\n",
    "                visitedUsersFile.write(str(visitingProfileID)+'\\n')\n",
    "            visitedUsersFile.close()\n",
    "            print('100,000 Done!!!')\n",
    "            break;\n",
    "    except:\n",
    "        print('error')"
   ]
  },
  {
   "cell_type": "code",
   "execution_count": null,
   "metadata": {},
   "outputs": [],
   "source": []
  }
 ],
 "metadata": {
  "kernelspec": {
   "display_name": "Python 3",
   "language": "python",
   "name": "python3"
  },
  "language_info": {
   "codemirror_mode": {
    "name": "ipython",
    "version": 3
   },
   "file_extension": ".py",
   "mimetype": "text/x-python",
   "name": "python",
   "nbconvert_exporter": "python",
   "pygments_lexer": "ipython3",
   "version": "3.7.9"
  }
 },
 "nbformat": 4,
 "nbformat_minor": 4
}
